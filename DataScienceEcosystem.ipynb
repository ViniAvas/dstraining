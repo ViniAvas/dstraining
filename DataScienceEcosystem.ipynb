{
 "cells": [
  {
   "cell_type": "markdown",
   "id": "a5652b3b-9ce4-451f-a68a-7522dd8b0720",
   "metadata": {},
   "source": [
    "\n",
    "# Data Science Tools and Ecosystem\n",
    "\n"
   ]
  },
  {
   "cell_type": "markdown",
   "id": "45330c37-3822-47c8-9063-86301c3a5225",
   "metadata": {},
   "source": [
    "\n",
    "#### In this notebook, Data Science Tools and Ecosystem are summarized."
   ]
  },
  {
   "cell_type": "markdown",
   "id": "a2aaa450-9bbc-4270-87bd-682f4d5dc0a4",
   "metadata": {},
   "source": [
    "***Objectives:***\n",
    "- List popular languages in data science    \n",
    "- learn about the various libraries in data science\n",
    "- Introduces the Jupyter Notebook and Jupyter Lab\n",
    "- Learn about R and R Studio\n"
   ]
  },
  {
   "cell_type": "markdown",
   "id": "3c689fe3-cdd3-4c4e-a40e-0ce0fa819047",
   "metadata": {},
   "source": [
    "## Author: \n",
    "* Vinicios Alves"
   ]
  },
  {
   "cell_type": "markdown",
   "id": "bca3bcd5-8c25-458e-b8b0-806eef81b305",
   "metadata": {},
   "source": [
    "\n",
    "### H3 Some of the popular languages that Data Scientists use are:\n",
    "\n",
    "\n",
    "1. Python\n",
    "2. R \n",
    "3. SQL\n"
   ]
  },
  {
   "cell_type": "markdown",
   "id": "31439ac7-9da8-4f50-b672-223212b935f1",
   "metadata": {},
   "source": [
    "### Some of the commonly used libraries used by Data Scientists include:\n",
    "\n",
    "1. NumPy\n",
    "2. Pandas \n",
    "3. Maplotlib\n",
    "4. Seaborn\n",
    "5. Keras\n",
    "6. SciPy\n"
   ]
  },
  {
   "cell_type": "markdown",
   "id": "2a44a256-c2c7-443e-9005-c828d9d76162",
   "metadata": {},
   "source": [
    "| Data Science Tools |\n",
    "| -------------| \n",
    "| RStudio | \n",
    "| Jupiter Labs |\n",
    "| Git |"
   ]
  },
  {
   "cell_type": "markdown",
   "id": "b91203b6-9bbd-44ec-b662-2d1f65ac1123",
   "metadata": {},
   "source": [
    "* Below are a few examples of evaluating arithmetic expressions in Python\n"
   ]
  },
  {
   "cell_type": "code",
   "execution_count": 45,
   "id": "73c19e48-ffe1-4862-91bd-1262a072124b",
   "metadata": {},
   "outputs": [
    {
     "data": {
      "text/plain": [
       "17"
      ]
     },
     "execution_count": 45,
     "metadata": {},
     "output_type": "execute_result"
    }
   ],
   "source": [
    "#This a simple arithmetic expression to mutiply then add integers\n",
    "(3*4)+5"
   ]
  },
  {
   "cell_type": "code",
   "execution_count": 47,
   "id": "4390cc78-7aec-46c1-b858-9be30ed40b39",
   "metadata": {},
   "outputs": [
    {
     "data": {
      "text/plain": [
       "3.3333333333333335"
      ]
     },
     "execution_count": 47,
     "metadata": {},
     "output_type": "execute_result"
    }
   ],
   "source": [
    "#This will convert 200 minutes to hours by diving by 60\n",
    "\n",
    "m = 200\n",
    "\n",
    "\n",
    "h = m/60\n",
    "\n",
    "h\n"
   ]
  },
  {
   "cell_type": "code",
   "execution_count": null,
   "id": "256fc927-f74b-499d-9a03-86339f532cdc",
   "metadata": {},
   "outputs": [],
   "source": []
  },
  {
   "cell_type": "code",
   "execution_count": null,
   "id": "b5ac3495-16c7-44d9-8356-091068feeadb",
   "metadata": {},
   "outputs": [],
   "source": []
  },
  {
   "cell_type": "code",
   "execution_count": null,
   "id": "93aad306-1e44-444a-924d-4f696b7ec1f7",
   "metadata": {},
   "outputs": [],
   "source": []
  }
 ],
 "metadata": {
  "kernelspec": {
   "display_name": "Python 3 (ipykernel)",
   "language": "python",
   "name": "python3"
  },
  "language_info": {
   "codemirror_mode": {
    "name": "ipython",
    "version": 3
   },
   "file_extension": ".py",
   "mimetype": "text/x-python",
   "name": "python",
   "nbconvert_exporter": "python",
   "pygments_lexer": "ipython3",
   "version": "3.12.7"
  }
 },
 "nbformat": 4,
 "nbformat_minor": 5
}
